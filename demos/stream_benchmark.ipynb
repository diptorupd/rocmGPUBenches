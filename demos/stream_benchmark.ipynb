{
 "cells": [
  {
   "cell_type": "markdown",
   "metadata": {},
   "source": [
    "# GPU STREAM Benchmark: Memory Bandwidth Analysis\n",
    "\n",
    "The **STREAM benchmark** is the industry standard for measuring sustained memory bandwidth. Originally developed by Dr. John McCalpin for CPUs, it's been adapted for GPUs to characterize HBM (High Bandwidth Memory) performance.\n",
    "\n",
    "## What STREAM Measures\n",
    "\n",
    "STREAM tests simple vector operations that stress memory bandwidth with minimal compute:\n",
    "\n",
    "| Kernel | Operation | Memory Streams | Bytes/Element |\n",
    "|--------|-----------|----------------|---------------|\n",
    "| **Init** | `A = scalar` | 1 write | 8 bytes |\n",
    "| **Read** | `temp = B` | 1 read | 8 bytes |\n",
    "| **Scale** | `A = α·B` | 1 read + 1 write | 16 bytes |\n",
    "| **Triad** | `A = B·D + C` | 3 reads + 1 write | 32 bytes |\n",
    "\n",
    "**Triad** is the classic STREAM test and represents realistic bandwidth under load.\n",
    "\n",
    "## Relevance to LLM Workloads\n",
    "\n",
    "### ✅ Why STREAM Matters:\n",
    "- **Decode phase bottleneck**: Autoregressive generation (batch=1) is memory-bound\n",
    "- **HBM bandwidth ceiling**: Establishes theoretical peak bandwidth\n",
    "- **KV cache streaming**: Reading/writing attention cache during generation\n",
    "- **Sanity check**: If LLM inference can't approach STREAM bandwidth, there's room for optimization\n",
    "\n",
    "### ⚠ STREAM Limitations for LLMs:\n",
    "- **Access patterns differ**: STREAM is sequential; LLMs have strided (attention heads) and irregular patterns\n",
    "- **Compute/memory mix**: STREAM is pure bandwidth; LLMs mix GEMM (compute-bound) with memory-bound ops\n",
    "- **Cache behavior**: STREAM bypasses cache; small-batch LLM inference benefits from L2/L3 locality\n",
    "- **Real bottlenecks**: FlashAttention fusion, quantization overhead, kernel fusion matter more\n",
    "\n",
    "**Bottom line**: STREAM gives you the **upper bound** for memory bandwidth. For LLM-specific analysis, you'll also want roofline models, attention benchmarks, and GEMM profiling."
   ]
  },
  {
   "cell_type": "markdown",
   "metadata": {},
   "source": [
    "## Setup"
   ]
  },
  {
   "cell_type": "code",
   "execution_count": 30,
   "metadata": {},
   "outputs": [],
   "source": [
    "from rocmGPUBenches import create_stream_benchmark_runner\n",
    "from rocmGPUBenches.storage import BenchmarkDB\n",
    "from rocmGPUBenches.visualization import plot_sweep, plot_comparison\n",
    "import numpy as np\n",
    "import plotly.graph_objects as go\n",
    "from plotly.subplots import make_subplots"
   ]
  },
  {
   "cell_type": "code",
   "execution_count": 31,
   "metadata": {},
   "outputs": [
    {
     "name": "stdout",
     "output_type": "stream",
     "text": [
      "Registered benchmark: stream\n"
     ]
    }
   ],
   "source": [
    "# Initialize benchmark runner and database\n",
    "runner = create_stream_benchmark_runner()\n",
    "db = BenchmarkDB(\"stream_results.db\")"
   ]
  },
  {
   "cell_type": "markdown",
   "metadata": {},
   "source": [
    "## 1. Quick Test: Classic STREAM Triad\n",
    "\n",
    "The triad kernel (`A = B*D + C`) is the gold standard - it uses 4 memory streams and represents realistic bandwidth under load."
   ]
  },
  {
   "cell_type": "code",
   "execution_count": 32,
   "metadata": {},
   "outputs": [
    {
     "name": "stdout",
     "output_type": "stream",
     "text": [
      "STREAM Triad Bandwidth: 2050.02 GB/sCompiling stream kernel with optimizations (one-time compilation)...\n",
      "\n",
      "Execution Time: 1.653 ms\n",
      "\n",
      "This represents your GPU's sustained HBM bandwidth ceiling.\n",
      "Compile flags: -O3 -ffast-math --gpu-max-threads-per-block=1024\n",
      "Kernel compilation complete! Loaded 4 kernel functions.\n"
     ]
    }
   ],
   "source": [
    "# Test triad with 100M elements (800 MB per array, 3.2 GB total)\n",
    "result = runner.run(\"stream\", {\n",
    "    \"problem_size\": 100_000_000,\n",
    "    \"kernel_type\": \"triad\",\n",
    "    \"block_size\": 256\n",
    "})\n",
    "\n",
    "print(f\"STREAM Triad Bandwidth: {result.primary_metric:.2f} GB/s\")\n",
    "print(f\"Execution Time: {result.exec_time_ms:.3f} ms\")\n",
    "print(f\"\\nThis represents your GPU's sustained HBM bandwidth ceiling.\")"
   ]
  },
  {
   "cell_type": "markdown",
   "metadata": {},
   "source": [
    "## 2. Compare All Kernel Types\n",
    "\n",
    "Different kernels use different numbers of memory streams, revealing bandwidth scaling behavior."
   ]
  },
  {
   "cell_type": "code",
   "execution_count": null,
   "metadata": {},
   "outputs": [
    {
     "name": "stdout",
     "output_type": "stream",
     "text": [
      "Kernel Type  | Bandwidth (GB/s) | Time (ms) | Memory Streams\n",
      "----------------------------------------------------------------------\n",
      "init         |           815.66 |     1.077 | 1\n",
      "read         |           784.85 |     1.127 | 1\n",
      "scale        |          1370.94 |     1.253 | 2\n",
      "triad        |          2061.45 |     1.637 | 4\n"
     ]
    }
   ],
   "source": [
    "# Test all 4 kernel types\n",
    "N = 100_000_000\n",
    "kernel_types = [\"init\", \"read\", \"scale\", \"triad\"]\n",
    "results = {}\n",
    "\n",
    "print(\"Kernel Type  | Bandwidth (GB/s) | Time (ms) | Memory Streams\")\n",
    "print(\"-\" * 70)\n",
    "\n",
    "for kernel_type in kernel_types:\n",
    "    result = runner.run(\"stream\", {\n",
    "        \"problem_size\": N,\n",
    "        \"kernel_type\": kernel_type,\n",
    "        \"block_size\": 256\n",
    "    })\n",
    "\n",
    "    results[kernel_type] = result\n",
    "\n",
    "    # Determine stream count\n",
    "    streams = {\"init\": 1, \"read\": 1, \"scale\": 2, \"triad\": 4}[kernel_type]\n",
    "\n",
    "    print(f\"{kernel_type:12s} | {result.primary_metric:16.2f} | {result.exec_time_ms:9.3f} | {streams}\")\n",
    "\n",
    "    # Save to database\n",
    "    db.save_result(\n",
    "        benchmark_name=\"stream\",\n",
    "        params={\"problem_size\": N, \"kernel_type\": kernel_type, \"block_size\": 256},\n",
    "        result=result\n",
    "    )"
   ]
  },
  {
   "cell_type": "code",
   "execution_count": 34,
   "metadata": {},
   "outputs": [
    {
     "data": {
      "application/vnd.plotly.v1+json": {
       "config": {
        "plotlyServerURL": "https://plot.ly"
       },
       "data": [
        {
         "marker": {
          "color": [
           "#636EFA",
           "#EF553B",
           "#00CC96",
           "#AB63FA"
          ]
         },
         "name": "Bandwidth",
         "type": "bar",
         "x": [
          "init",
          "read",
          "scale",
          "triad"
         ],
         "xaxis": "x",
         "y": [
          815.6581795941743,
          784.852361988317,
          1370.9381923370388,
          2061.449150175396
         ],
         "yaxis": "y"
        },
        {
         "line": {
          "width": 2
         },
         "marker": {
          "size": 10
         },
         "mode": "lines+markers",
         "name": "Bandwidth",
         "type": "scatter",
         "x": [
          1,
          1,
          2,
          4
         ],
         "xaxis": "x2",
         "y": [
          815.6581795941743,
          784.852361988317,
          1370.9381923370388,
          2061.449150175396
         ],
         "yaxis": "y2"
        }
       ],
       "layout": {
        "annotations": [
         {
          "font": {
           "size": 16
          },
          "showarrow": false,
          "text": "Bandwidth by Kernel Type",
          "x": 0.225,
          "xanchor": "center",
          "xref": "paper",
          "y": 1,
          "yanchor": "bottom",
          "yref": "paper"
         },
         {
          "font": {
           "size": 16
          },
          "showarrow": false,
          "text": "Bandwidth vs Memory Streams",
          "x": 0.775,
          "xanchor": "center",
          "xref": "paper",
          "y": 1,
          "yanchor": "bottom",
          "yref": "paper"
         }
        ],
        "height": 400,
        "showlegend": false,
        "template": {
         "data": {
          "bar": [
           {
            "error_x": {
             "color": "#2a3f5f"
            },
            "error_y": {
             "color": "#2a3f5f"
            },
            "marker": {
             "line": {
              "color": "#E5ECF6",
              "width": 0.5
             },
             "pattern": {
              "fillmode": "overlay",
              "size": 10,
              "solidity": 0.2
             }
            },
            "type": "bar"
           }
          ],
          "barpolar": [
           {
            "marker": {
             "line": {
              "color": "#E5ECF6",
              "width": 0.5
             },
             "pattern": {
              "fillmode": "overlay",
              "size": 10,
              "solidity": 0.2
             }
            },
            "type": "barpolar"
           }
          ],
          "carpet": [
           {
            "aaxis": {
             "endlinecolor": "#2a3f5f",
             "gridcolor": "white",
             "linecolor": "white",
             "minorgridcolor": "white",
             "startlinecolor": "#2a3f5f"
            },
            "baxis": {
             "endlinecolor": "#2a3f5f",
             "gridcolor": "white",
             "linecolor": "white",
             "minorgridcolor": "white",
             "startlinecolor": "#2a3f5f"
            },
            "type": "carpet"
           }
          ],
          "choropleth": [
           {
            "colorbar": {
             "outlinewidth": 0,
             "ticks": ""
            },
            "type": "choropleth"
           }
          ],
          "contour": [
           {
            "colorbar": {
             "outlinewidth": 0,
             "ticks": ""
            },
            "colorscale": [
             [
              0,
              "#0d0887"
             ],
             [
              0.1111111111111111,
              "#46039f"
             ],
             [
              0.2222222222222222,
              "#7201a8"
             ],
             [
              0.3333333333333333,
              "#9c179e"
             ],
             [
              0.4444444444444444,
              "#bd3786"
             ],
             [
              0.5555555555555556,
              "#d8576b"
             ],
             [
              0.6666666666666666,
              "#ed7953"
             ],
             [
              0.7777777777777778,
              "#fb9f3a"
             ],
             [
              0.8888888888888888,
              "#fdca26"
             ],
             [
              1,
              "#f0f921"
             ]
            ],
            "type": "contour"
           }
          ],
          "contourcarpet": [
           {
            "colorbar": {
             "outlinewidth": 0,
             "ticks": ""
            },
            "type": "contourcarpet"
           }
          ],
          "heatmap": [
           {
            "colorbar": {
             "outlinewidth": 0,
             "ticks": ""
            },
            "colorscale": [
             [
              0,
              "#0d0887"
             ],
             [
              0.1111111111111111,
              "#46039f"
             ],
             [
              0.2222222222222222,
              "#7201a8"
             ],
             [
              0.3333333333333333,
              "#9c179e"
             ],
             [
              0.4444444444444444,
              "#bd3786"
             ],
             [
              0.5555555555555556,
              "#d8576b"
             ],
             [
              0.6666666666666666,
              "#ed7953"
             ],
             [
              0.7777777777777778,
              "#fb9f3a"
             ],
             [
              0.8888888888888888,
              "#fdca26"
             ],
             [
              1,
              "#f0f921"
             ]
            ],
            "type": "heatmap"
           }
          ],
          "histogram": [
           {
            "marker": {
             "pattern": {
              "fillmode": "overlay",
              "size": 10,
              "solidity": 0.2
             }
            },
            "type": "histogram"
           }
          ],
          "histogram2d": [
           {
            "colorbar": {
             "outlinewidth": 0,
             "ticks": ""
            },
            "colorscale": [
             [
              0,
              "#0d0887"
             ],
             [
              0.1111111111111111,
              "#46039f"
             ],
             [
              0.2222222222222222,
              "#7201a8"
             ],
             [
              0.3333333333333333,
              "#9c179e"
             ],
             [
              0.4444444444444444,
              "#bd3786"
             ],
             [
              0.5555555555555556,
              "#d8576b"
             ],
             [
              0.6666666666666666,
              "#ed7953"
             ],
             [
              0.7777777777777778,
              "#fb9f3a"
             ],
             [
              0.8888888888888888,
              "#fdca26"
             ],
             [
              1,
              "#f0f921"
             ]
            ],
            "type": "histogram2d"
           }
          ],
          "histogram2dcontour": [
           {
            "colorbar": {
             "outlinewidth": 0,
             "ticks": ""
            },
            "colorscale": [
             [
              0,
              "#0d0887"
             ],
             [
              0.1111111111111111,
              "#46039f"
             ],
             [
              0.2222222222222222,
              "#7201a8"
             ],
             [
              0.3333333333333333,
              "#9c179e"
             ],
             [
              0.4444444444444444,
              "#bd3786"
             ],
             [
              0.5555555555555556,
              "#d8576b"
             ],
             [
              0.6666666666666666,
              "#ed7953"
             ],
             [
              0.7777777777777778,
              "#fb9f3a"
             ],
             [
              0.8888888888888888,
              "#fdca26"
             ],
             [
              1,
              "#f0f921"
             ]
            ],
            "type": "histogram2dcontour"
           }
          ],
          "mesh3d": [
           {
            "colorbar": {
             "outlinewidth": 0,
             "ticks": ""
            },
            "type": "mesh3d"
           }
          ],
          "parcoords": [
           {
            "line": {
             "colorbar": {
              "outlinewidth": 0,
              "ticks": ""
             }
            },
            "type": "parcoords"
           }
          ],
          "pie": [
           {
            "automargin": true,
            "type": "pie"
           }
          ],
          "scatter": [
           {
            "fillpattern": {
             "fillmode": "overlay",
             "size": 10,
             "solidity": 0.2
            },
            "type": "scatter"
           }
          ],
          "scatter3d": [
           {
            "line": {
             "colorbar": {
              "outlinewidth": 0,
              "ticks": ""
             }
            },
            "marker": {
             "colorbar": {
              "outlinewidth": 0,
              "ticks": ""
             }
            },
            "type": "scatter3d"
           }
          ],
          "scattercarpet": [
           {
            "marker": {
             "colorbar": {
              "outlinewidth": 0,
              "ticks": ""
             }
            },
            "type": "scattercarpet"
           }
          ],
          "scattergeo": [
           {
            "marker": {
             "colorbar": {
              "outlinewidth": 0,
              "ticks": ""
             }
            },
            "type": "scattergeo"
           }
          ],
          "scattergl": [
           {
            "marker": {
             "colorbar": {
              "outlinewidth": 0,
              "ticks": ""
             }
            },
            "type": "scattergl"
           }
          ],
          "scattermap": [
           {
            "marker": {
             "colorbar": {
              "outlinewidth": 0,
              "ticks": ""
             }
            },
            "type": "scattermap"
           }
          ],
          "scattermapbox": [
           {
            "marker": {
             "colorbar": {
              "outlinewidth": 0,
              "ticks": ""
             }
            },
            "type": "scattermapbox"
           }
          ],
          "scatterpolar": [
           {
            "marker": {
             "colorbar": {
              "outlinewidth": 0,
              "ticks": ""
             }
            },
            "type": "scatterpolar"
           }
          ],
          "scatterpolargl": [
           {
            "marker": {
             "colorbar": {
              "outlinewidth": 0,
              "ticks": ""
             }
            },
            "type": "scatterpolargl"
           }
          ],
          "scatterternary": [
           {
            "marker": {
             "colorbar": {
              "outlinewidth": 0,
              "ticks": ""
             }
            },
            "type": "scatterternary"
           }
          ],
          "surface": [
           {
            "colorbar": {
             "outlinewidth": 0,
             "ticks": ""
            },
            "colorscale": [
             [
              0,
              "#0d0887"
             ],
             [
              0.1111111111111111,
              "#46039f"
             ],
             [
              0.2222222222222222,
              "#7201a8"
             ],
             [
              0.3333333333333333,
              "#9c179e"
             ],
             [
              0.4444444444444444,
              "#bd3786"
             ],
             [
              0.5555555555555556,
              "#d8576b"
             ],
             [
              0.6666666666666666,
              "#ed7953"
             ],
             [
              0.7777777777777778,
              "#fb9f3a"
             ],
             [
              0.8888888888888888,
              "#fdca26"
             ],
             [
              1,
              "#f0f921"
             ]
            ],
            "type": "surface"
           }
          ],
          "table": [
           {
            "cells": {
             "fill": {
              "color": "#EBF0F8"
             },
             "line": {
              "color": "white"
             }
            },
            "header": {
             "fill": {
              "color": "#C8D4E3"
             },
             "line": {
              "color": "white"
             }
            },
            "type": "table"
           }
          ]
         },
         "layout": {
          "annotationdefaults": {
           "arrowcolor": "#2a3f5f",
           "arrowhead": 0,
           "arrowwidth": 1
          },
          "autotypenumbers": "strict",
          "coloraxis": {
           "colorbar": {
            "outlinewidth": 0,
            "ticks": ""
           }
          },
          "colorscale": {
           "diverging": [
            [
             0,
             "#8e0152"
            ],
            [
             0.1,
             "#c51b7d"
            ],
            [
             0.2,
             "#de77ae"
            ],
            [
             0.3,
             "#f1b6da"
            ],
            [
             0.4,
             "#fde0ef"
            ],
            [
             0.5,
             "#f7f7f7"
            ],
            [
             0.6,
             "#e6f5d0"
            ],
            [
             0.7,
             "#b8e186"
            ],
            [
             0.8,
             "#7fbc41"
            ],
            [
             0.9,
             "#4d9221"
            ],
            [
             1,
             "#276419"
            ]
           ],
           "sequential": [
            [
             0,
             "#0d0887"
            ],
            [
             0.1111111111111111,
             "#46039f"
            ],
            [
             0.2222222222222222,
             "#7201a8"
            ],
            [
             0.3333333333333333,
             "#9c179e"
            ],
            [
             0.4444444444444444,
             "#bd3786"
            ],
            [
             0.5555555555555556,
             "#d8576b"
            ],
            [
             0.6666666666666666,
             "#ed7953"
            ],
            [
             0.7777777777777778,
             "#fb9f3a"
            ],
            [
             0.8888888888888888,
             "#fdca26"
            ],
            [
             1,
             "#f0f921"
            ]
           ],
           "sequentialminus": [
            [
             0,
             "#0d0887"
            ],
            [
             0.1111111111111111,
             "#46039f"
            ],
            [
             0.2222222222222222,
             "#7201a8"
            ],
            [
             0.3333333333333333,
             "#9c179e"
            ],
            [
             0.4444444444444444,
             "#bd3786"
            ],
            [
             0.5555555555555556,
             "#d8576b"
            ],
            [
             0.6666666666666666,
             "#ed7953"
            ],
            [
             0.7777777777777778,
             "#fb9f3a"
            ],
            [
             0.8888888888888888,
             "#fdca26"
            ],
            [
             1,
             "#f0f921"
            ]
           ]
          },
          "colorway": [
           "#636efa",
           "#EF553B",
           "#00cc96",
           "#ab63fa",
           "#FFA15A",
           "#19d3f3",
           "#FF6692",
           "#B6E880",
           "#FF97FF",
           "#FECB52"
          ],
          "font": {
           "color": "#2a3f5f"
          },
          "geo": {
           "bgcolor": "white",
           "lakecolor": "white",
           "landcolor": "#E5ECF6",
           "showlakes": true,
           "showland": true,
           "subunitcolor": "white"
          },
          "hoverlabel": {
           "align": "left"
          },
          "hovermode": "closest",
          "mapbox": {
           "style": "light"
          },
          "paper_bgcolor": "white",
          "plot_bgcolor": "#E5ECF6",
          "polar": {
           "angularaxis": {
            "gridcolor": "white",
            "linecolor": "white",
            "ticks": ""
           },
           "bgcolor": "#E5ECF6",
           "radialaxis": {
            "gridcolor": "white",
            "linecolor": "white",
            "ticks": ""
           }
          },
          "scene": {
           "xaxis": {
            "backgroundcolor": "#E5ECF6",
            "gridcolor": "white",
            "gridwidth": 2,
            "linecolor": "white",
            "showbackground": true,
            "ticks": "",
            "zerolinecolor": "white"
           },
           "yaxis": {
            "backgroundcolor": "#E5ECF6",
            "gridcolor": "white",
            "gridwidth": 2,
            "linecolor": "white",
            "showbackground": true,
            "ticks": "",
            "zerolinecolor": "white"
           },
           "zaxis": {
            "backgroundcolor": "#E5ECF6",
            "gridcolor": "white",
            "gridwidth": 2,
            "linecolor": "white",
            "showbackground": true,
            "ticks": "",
            "zerolinecolor": "white"
           }
          },
          "shapedefaults": {
           "line": {
            "color": "#2a3f5f"
           }
          },
          "ternary": {
           "aaxis": {
            "gridcolor": "white",
            "linecolor": "white",
            "ticks": ""
           },
           "baxis": {
            "gridcolor": "white",
            "linecolor": "white",
            "ticks": ""
           },
           "bgcolor": "#E5ECF6",
           "caxis": {
            "gridcolor": "white",
            "linecolor": "white",
            "ticks": ""
           }
          },
          "title": {
           "x": 0.05
          },
          "xaxis": {
           "automargin": true,
           "gridcolor": "white",
           "linecolor": "white",
           "ticks": "",
           "title": {
            "standoff": 15
           },
           "zerolinecolor": "white",
           "zerolinewidth": 2
          },
          "yaxis": {
           "automargin": true,
           "gridcolor": "white",
           "linecolor": "white",
           "ticks": "",
           "title": {
            "standoff": 15
           },
           "zerolinecolor": "white",
           "zerolinewidth": 2
          }
         }
        },
        "title": {
         "text": "STREAM Kernel Comparison"
        },
        "xaxis": {
         "anchor": "y",
         "domain": [
          0,
          0.45
         ],
         "title": {
          "text": "Kernel Type"
         }
        },
        "xaxis2": {
         "anchor": "y2",
         "domain": [
          0.55,
          1
         ],
         "title": {
          "text": "Number of Memory Streams"
         }
        },
        "yaxis": {
         "anchor": "x",
         "domain": [
          0,
          1
         ],
         "title": {
          "text": "Bandwidth (GB/s)"
         }
        },
        "yaxis2": {
         "anchor": "x2",
         "domain": [
          0,
          1
         ],
         "title": {
          "text": "Bandwidth (GB/s)"
         }
        }
       }
      }
     },
     "metadata": {},
     "output_type": "display_data"
    }
   ],
   "source": [
    "# Visualize kernel comparison\n",
    "kernel_names = list(results.keys())\n",
    "bandwidths = [results[k].primary_metric for k in kernel_names]\n",
    "stream_counts = [1, 1, 2, 4]\n",
    "\n",
    "fig = make_subplots(\n",
    "    rows=1, cols=2,\n",
    "    subplot_titles=(\"Bandwidth by Kernel Type\", \"Bandwidth vs Memory Streams\"),\n",
    "    specs=[[{\"type\": \"bar\"}, {\"type\": \"scatter\"}]]\n",
    ")\n",
    "\n",
    "# Bar chart\n",
    "fig.add_trace(\n",
    "    go.Bar(x=kernel_names, y=bandwidths, name=\"Bandwidth\",\n",
    "           marker_color=['#636EFA', '#EF553B', '#00CC96', '#AB63FA']),\n",
    "    row=1, col=1\n",
    ")\n",
    "\n",
    "# Scatter plot: bandwidth vs stream count\n",
    "fig.add_trace(\n",
    "    go.Scatter(x=stream_counts, y=bandwidths, mode='lines+markers',\n",
    "               name=\"Bandwidth\", marker=dict(size=10), line=dict(width=2)),\n",
    "    row=1, col=2\n",
    ")\n",
    "\n",
    "fig.update_xaxes(title_text=\"Kernel Type\", row=1, col=1)\n",
    "fig.update_xaxes(title_text=\"Number of Memory Streams\", row=1, col=2)\n",
    "fig.update_yaxes(title_text=\"Bandwidth (GB/s)\", row=1, col=1)\n",
    "fig.update_yaxes(title_text=\"Bandwidth (GB/s)\", row=1, col=2)\n",
    "\n",
    "fig.update_layout(height=400, showlegend=False, title_text=\"STREAM Kernel Comparison\")\n",
    "fig.show()"
   ]
  },
  {
   "cell_type": "markdown",
   "metadata": {},
   "source": [
    "## 3. Problem Size Sweep: Cache Effects\n",
    "\n",
    "Vary problem size from 1 KB to 8 GB to observe:\n",
    "- **Small sizes**: Fit in L2/L3 cache → higher bandwidth\n",
    "- **Large sizes**: Spill to HBM → sustained bandwidth plateau"
   ]
  },
  {
   "cell_type": "code",
   "execution_count": null,
   "metadata": {},
   "outputs": [
    {
     "name": "stdout",
     "output_type": "stream",
     "text": [
      "Running size sweep: 22 sizes from 1 KB to 2097152 KB\n",
      "This will take a few minutes...\n",
      "\n",
      "  [ 5/22] Size:      16 KB → 2.43 GB/s\n",
      "  [10/22] Size:     512 KB → 80.17 GB/s\n"
     ]
    },
    {
     "name": "stdout",
     "output_type": "stream",
     "text": [
      "  [15/22] Size:   16384 KB → 1084.96 GB/s\n",
      "  [20/22] Size:  524288 KB → 2041.98 GB/s\n"
     ]
    }
   ],
   "source": [
    "# Problem sizes: 1 KB to 8 GB (in number of doubles)\n",
    "# Each double is 8 bytes, and we have 4 arrays\n",
    "sizes_kb = [1, 2, 4, 8, 16, 32, 64, 128, 256, 512, 1024, 2048, 4096, 8192, 16384, 32768, 65536,\n",
    "            131072, 262144, 524288, 1048576, 2097152]  # KB values\n",
    "\n",
    "# Convert KB to number of doubles (1 KB = 128 doubles, since 1024 bytes / 8 bytes/double)\n",
    "problem_sizes = [kb * 128 for kb in sizes_kb]\n",
    "\n",
    "print(f\"Running size sweep: {len(problem_sizes)} sizes from {sizes_kb[0]} KB to {sizes_kb[-1]} KB\")\n",
    "print(\"This will take a few minutes...\\n\")\n",
    "\n",
    "# Run triad kernel across all sizes\n",
    "for i, (size, kb) in enumerate(zip(problem_sizes, sizes_kb), 1):\n",
    "    result = runner.run(\"stream\", {\n",
    "        \"problem_size\": size,\n",
    "        \"kernel_type\": \"triad\",\n",
    "        \"block_size\": 256\n",
    "    })\n",
    "\n",
    "    db.save_result(\n",
    "        benchmark_name=\"stream\",\n",
    "        params={\"problem_size\": size, \"kernel_type\": \"triad\", \"block_size\": 256},\n",
    "        result=result\n",
    "    )\n",
    "\n",
    "    if i % 5 == 0:\n",
    "        print(f\"  [{i:2d}/{len(problem_sizes)}] Size: {kb:7d} KB → {result.primary_metric:.2f} GB/s\")"
   ]
  },
  {
   "cell_type": "markdown",
   "metadata": {},
   "source": [
    "### Observations:\n",
    "\n",
    "1. **Small sizes (< 64 MB)**: May show higher bandwidth due to L2/L3 cache hits\n",
    "2. **Plateau region (> 256 MB)**: Represents true HBM bandwidth - this is your **memory bandwidth ceiling**\n",
    "3. **Cache hierarchy**: Look for inflection points where bandwidth drops (cache size boundaries)\n",
    "\n",
    "For **LLM decode phase** (batch=1), your workload will be in the HBM-bound regime since model weights (GBs) far exceed cache size (MBs)."
   ]
  },
  {
   "cell_type": "markdown",
   "metadata": {},
   "source": [
    "## 4. Block Size Sensitivity\n",
    "\n",
    "Test different thread block sizes to find optimal occupancy."
   ]
  },
  {
   "cell_type": "code",
   "execution_count": null,
   "metadata": {},
   "outputs": [
    {
     "name": "stdout",
     "output_type": "stream",
     "text": [
      "Block Size | Bandwidth (GB/s) | Time (ms)\n",
      "--------------------------------------------------\n",
      "        64 |           839.14 |     3.824\n",
      "       128 |          1387.22 |     2.338\n",
      "       256 |          2077.21 |     1.625\n",
      "       512 |          2320.25 |     1.421\n",
      "      1024 |          2316.54 |     1.430\n"
     ]
    }
   ],
   "source": [
    "# Test different block sizes\n",
    "block_sizes = [64, 128, 256, 512, 1024]\n",
    "N = 100_000_000\n",
    "\n",
    "print(\"Block Size | Bandwidth (GB/s) | Time (ms)\")\n",
    "print(\"-\" * 50)\n",
    "\n",
    "for block_size in block_sizes:\n",
    "    result = runner.run(\"stream\", {\n",
    "        \"problem_size\": N,\n",
    "        \"kernel_type\": \"triad\",\n",
    "        \"block_size\": block_size\n",
    "    })\n",
    "\n",
    "    print(f\"{block_size:10d} | {result.primary_metric:16.2f} | {result.exec_time_ms:9.3f}\")\n",
    "\n",
    "    db.save_result(\n",
    "        benchmark_name=\"stream\",\n",
    "        params={\"problem_size\": N, \"kernel_type\": \"triad\", \"block_size\": block_size},\n",
    "        result=result\n",
    "    )"
   ]
  },
  {
   "cell_type": "markdown",
   "metadata": {},
   "source": [
    "## 5. Key Takeaways\n",
    "\n",
    "### For LLM Inference:\n",
    "\n",
    "1. **Decode Phase Target**: Your STREAM triad bandwidth (~2 TB/s) is the **ceiling** for memory-bound kernels\n",
    "   - If decode throughput << STREAM bandwidth, there's optimization headroom\n",
    "   - Typical optimizations: kernel fusion, reduce memory roundtrips, quantization\n",
    "\n",
    "2. **Prefill Phase**: GEMM-bound, not memory-bound\n",
    "   - Need **roofline model** to understand compute vs bandwidth trade-offs\n",
    "   - STREAM alone doesn't tell the full story\n",
    "\n",
    "3. **Real-World Considerations**:\n",
    "   - Attention patterns are strided (not sequential like STREAM)\n",
    "   - Quantization adds dequant overhead\n",
    "   - FlashAttention/PagedAttention use tiling for better locality\n",
    "\n",
    "### Next Benchmarks to Explore:\n",
    "- **Roofline Model**: Compute vs memory bandwidth trade-offs\n",
    "- **Attention Kernels**: FlashAttention-style fused operations\n",
    "- **GEMM**: Different shapes and precisions (FP16/BF16/FP8)\n",
    "- **Fused Kernels**: RMSNorm, LayerNorm, activations\n",
    "\n",
    "STREAM gives you the **foundation** - now build up to realistic LLM kernels! 🚀"
   ]
  },
  {
   "cell_type": "markdown",
   "metadata": {},
   "source": [
    "## 6. Export Results"
   ]
  },
  {
   "cell_type": "code",
   "execution_count": 37,
   "metadata": {},
   "outputs": [
    {
     "name": "stdout",
     "output_type": "stream",
     "text": [
      "Exported 166 results to stream_results.csv\n",
      "✓ Results exported to stream_results.csv\n",
      "\n",
      "Collected 0 triad measurements\n",
      "Peak bandwidth: nan GB/s\n",
      "Average bandwidth (large sizes): nan GB/s\n"
     ]
    }
   ],
   "source": [
    "# Export all results to CSV for further analysis\n",
    "db.export_csv(\"stream_results.csv\")\n",
    "print(\"✓ Results exported to stream_results.csv\")\n",
    "\n",
    "# Show summary statistics\n",
    "df = db.query(\"SELECT * FROM results WHERE benchmark_name = 'stream' AND kernel_type = 'triad'\")\n",
    "print(f\"\\nCollected {len(df)} triad measurements\")\n",
    "print(f\"Peak bandwidth: {df['primary_metric'].max():.2f} GB/s\")\n",
    "print(f\"Average bandwidth (large sizes): {df[df['problem_size'] > 10_000_000]['primary_metric'].mean():.2f} GB/s\")"
   ]
  }
 ],
 "metadata": {
  "kernelspec": {
   "display_name": "Python 3",
   "language": "python",
   "name": "python3"
  },
  "language_info": {
   "codemirror_mode": {
    "name": "ipython",
    "version": 3
   },
   "file_extension": ".py",
   "mimetype": "text/x-python",
   "name": "python",
   "nbconvert_exporter": "python",
   "pygments_lexer": "ipython3",
   "version": "3.12.0"
  }
 },
 "nbformat": 4,
 "nbformat_minor": 4
}
