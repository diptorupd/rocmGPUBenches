{
  "cells": [
    {
      "cell_type": "markdown",
      "metadata": {},
      "source": [
        "# ROCm GPU Roofline Benchmark - End-to-End Demo\n",
        "\n",
        "This notebook demonstrates the complete workflow of the roofline benchmark:\n",
        "1. ✅ Running GPU roofline benchmarks across different arithmetic intensities\n",
        "2. 💾 Storing results in SQLite database\n",
        "3. 🔍 Querying and analyzing roofline data\n",
        "4. 📊 Creating roofline plots (Performance vs Arithmetic Intensity)\n",
        "5. 🎯 Understanding memory-bound vs compute-bound regions\n",
        "\n",
        "**Requirements**: AMD GPU with ROCm, Python 3.12+, rocmGPUBenches installed\n",
        "\n",
        "## What is a Roofline Plot?\n",
        "\n",
        "The roofline model characterizes GPU performance across different arithmetic intensities (Flops/Byte):\n",
        "- **Low intensity**: Memory-bound (limited by bandwidth)\n",
        "- **High intensity**: Compute-bound (limited by peak FLOPs)\n",
        "- **Roofline**: The boundary showing achievable performance\n"
      ]
    },
    {
      "cell_type": "markdown",
      "metadata": {},
      "source": [
        "## Parameters\n",
        "\n",
        "### Required Parameters\n",
        "\n",
        "- **`arithmetic_ops`** (N): Number of arithmetic operations per memory access\n",
        "  - Controls the arithmetic intensity of the benchmark\n",
        "  - Typical range: 0-1024\n",
        "  - Higher values = more compute-intensive\n",
        "\n",
        "### Optional Parameters\n",
        "\n",
        "- **`M`**: Memory access pattern parameter (default: 4000)\n",
        "  - Controls the size of the working set\n",
        "\n",
        "- **`block_size`**: Thread block size (default: 256)\n",
        "  - Number of threads per block\n",
        "\n",
        "- **`iterations`**: Number of kernel iterations (default: 1000)\n",
        "  - More iterations = better measurement accuracy but longer execution time\n",
        "\n",
        "## Metrics\n",
        "\n",
        "The roofline benchmark returns the following metrics:\n",
        "\n",
        "- **Primary metric**: `gflops` - Compute throughput in GigaFlops per second\n",
        "- **Arithmetic Intensity**: Calculated as `(2 + N*2) / (2 * sizeof(float))` Flops per Byte\n",
        "- **Memory Bandwidth**: Calculated internally based on data transfer rates\n",
        "\n",
        "## Implementation Notes\n",
        "\n",
        "1. **Memory Allocation**: The benchmark allocates three buffers (dA, dB, dC) based on the formula:\n",
        "   ```cpp\n",
        "   data_len = blockCount * block_size * M\n",
        "   ```\n",
        "\n",
        "2. **Kernel Execution**: The roofline kernel performs:\n",
        "   - Initial subtract operations: `v = a - b`\n",
        "   - N iterations of: `v = v * a - b` (2 operations each)\n",
        "   - Total: `(2 + N*2)` floating-point operations per element\n",
        "\n",
        "3. **Occupancy**: The benchmark queries GPU occupancy to determine optimal block count\n",
        "\n",
        "4. **Compilation**: Kernels are compiled once via hipRTC with optimizations (`-O3`, `-ffast-math`)\n"
      ]
    },
    {
      "cell_type": "markdown",
      "metadata": {},
      "source": [
        "## 1. Import Required Libraries\n",
        "\n",
        "Import rocmGPUBenches components and visualization tools.\n"
      ]
    },
    {
      "cell_type": "code",
      "execution_count": 1,
      "metadata": {},
      "outputs": [
        {
          "name": "stdout",
          "output_type": "stream",
          "text": [
            "✅ Imports successful!\n"
          ]
        }
      ],
      "source": [
        "# Core rocmGPUBenches imports\n",
        "from rocmGPUBenches import (\n",
        "    BenchmarkDB,\n",
        "    create_roofline_benchmark_runner,\n",
        "    plot_sweep,\n",
        "    plot_comparison\n",
        ")\n",
        "\n",
        "# Visualization and data analysis\n",
        "import matplotlib.pyplot as plt\n",
        "import numpy as np\n",
        "import pandas as pd\n",
        "import json\n",
        "\n",
        "# Configure matplotlib for inline display\n",
        "%matplotlib inline\n",
        "plt.rcParams['figure.dpi'] = 100\n",
        "\n",
        "print(\"✅ Imports successful!\")\n"
      ]
    },
    {
      "cell_type": "markdown",
      "metadata": {},
      "source": [
        "## 2. Setup Benchmark Environment\n",
        "\n",
        "Initialize the database and benchmark runner, detect GPU.\n"
      ]
    },
    {
      "cell_type": "code",
      "execution_count": 2,
      "metadata": {},
      "outputs": [
        {
          "name": "stdout",
          "output_type": "stream",
          "text": [
            "Database: roofline_results.db\n",
            "Stats: {'total_results': np.int64(165), 'benchmarks': ['roofline'], 'gpus': ['AMD Instinct MI325X'], 'date_range': {'first': '2025-10-16T21:52:39.775193', 'last': '2025-10-16T21:59:24.132770'}}\n",
            "\n",
            "✅ Benchmark runner initialized\n",
            "   Benchmark: roofline\n",
            "   Description: GPU Roofline Benchmark: Characterizes GPU performance across different arithmetic intensities. By varying the ratio of compute operations to memory accesses (Flops/Byte), this benchmark identifies the transition from memory-bound to compute-bound performance regions.\n",
            "   GPU: AMD Instinct MI325X\n",
            "   Compute Units: 304\n",
            "   Architecture: gfx942\n",
            "Registered benchmark: roofline\n"
          ]
        }
      ],
      "source": [
        "# Initialize database\n",
        "db = BenchmarkDB('roofline_results.db')\n",
        "print(f\"Database: roofline_results.db\")\n",
        "print(f\"Stats: {db.stats()}\")\n",
        "\n",
        "# Create benchmark runner\n",
        "runner = create_roofline_benchmark_runner()\n",
        "\n",
        "# Get GPU information\n",
        "gpu_name = runner.get_device_name()\n",
        "compute_units = runner.get_sm_count()\n",
        "gpu_info = {'name': gpu_name, 'arch': 'gfx942'}  # Update arch for your GPU\n",
        "\n",
        "benchmark_description = (\n",
        "    \"GPU Roofline Benchmark: Characterizes GPU performance across different arithmetic intensities. \"\n",
        "    \"By varying the ratio of compute operations to memory accesses (Flops/Byte), this benchmark \"\n",
        "    \"identifies the transition from memory-bound to compute-bound performance regions.\"\n",
        ")\n",
        "\n",
        "print(f\"\\n✅ Benchmark runner initialized\")\n",
        "print(f\"   Benchmark: roofline\")\n",
        "print(f\"   Description: {benchmark_description}\")\n",
        "print(f\"   GPU: {gpu_name}\")\n",
        "print(f\"   Compute Units: {compute_units}\")\n",
        "print(f\"   Architecture: {gpu_info['arch']}\")\n"
      ]
    },
    {
      "cell_type": "markdown",
      "metadata": {},
      "source": [
        "## 3. Single Benchmark Run\n",
        "\n",
        "Run a single roofline benchmark with specific arithmetic intensity.\n"
      ]
    },
    {
      "cell_type": "code",
      "execution_count": 3,
      "metadata": {},
      "outputs": [
        {
          "name": "stdout",
          "output_type": "stream",
          "text": [
            "Running roofline benchmark with arithmetic_ops = 100...\n",
            "\n",
            "Compiling roofline kernel with optimizations (one-time compilation)...\n",
            "Compile flags: -O3 -ffast-math --gpu-max-threads-per-block=1024\n",
            "Kernel compilation complete! Loaded 2 kernel functions.\n"
          ]
        },
        {
          "ename": "RuntimeError",
          "evalue": "hipMalloc failed for dA",
          "output_type": "error",
          "traceback": [
            "\u001b[31m---------------------------------------------------------------------------\u001b[39m",
            "\u001b[31mRuntimeError\u001b[39m                              Traceback (most recent call last)",
            "\u001b[36mCell\u001b[39m\u001b[36m \u001b[39m\u001b[32mIn[3]\u001b[39m\u001b[32m, line 5\u001b[39m\n\u001b[32m      2\u001b[39m N = \u001b[32m100\u001b[39m\n\u001b[32m      3\u001b[39m \u001b[38;5;28mprint\u001b[39m(\u001b[33mf\u001b[39m\u001b[33m\"\u001b[39m\u001b[33mRunning roofline benchmark with arithmetic_ops = \u001b[39m\u001b[38;5;132;01m{\u001b[39;00mN\u001b[38;5;132;01m}\u001b[39;00m\u001b[33m...\u001b[39m\u001b[38;5;130;01m\\n\u001b[39;00m\u001b[33m\"\u001b[39m)\n\u001b[32m----> \u001b[39m\u001b[32m5\u001b[39m result = \u001b[43mrunner\u001b[49m\u001b[43m.\u001b[49m\u001b[43mrun\u001b[49m\u001b[43m(\u001b[49m\u001b[33;43m'\u001b[39;49m\u001b[33;43mroofline\u001b[39;49m\u001b[33;43m'\u001b[39;49m\u001b[43m,\u001b[49m\u001b[43m \u001b[49m\u001b[43m{\u001b[49m\u001b[33;43m'\u001b[39;49m\u001b[33;43marithmetic_ops\u001b[39;49m\u001b[33;43m'\u001b[39;49m\u001b[43m:\u001b[49m\u001b[43m \u001b[49m\u001b[43mN\u001b[49m\u001b[43m}\u001b[49m\u001b[43m)\u001b[49m\n\u001b[32m      7\u001b[39m \u001b[38;5;66;03m# Calculate arithmetic intensity\u001b[39;00m\n\u001b[32m      8\u001b[39m flops_per_element = \u001b[32m2.0\u001b[39m + N * \u001b[32m2.0\u001b[39m\n",
            "\u001b[31mRuntimeError\u001b[39m: hipMalloc failed for dA"
          ]
        }
      ],
      "source": [
        "# Run with moderate arithmetic intensity\n",
        "N = 100\n",
        "print(f\"Running roofline benchmark with arithmetic_ops = {N}...\\n\")\n",
        "\n",
        "result = runner.run('roofline', {'arithmetic_ops': N})\n",
        "\n",
        "# Calculate arithmetic intensity\n",
        "flops_per_element = 2.0 + N * 2.0\n",
        "bytes_per_element = 2.0 * 4  # 2 reads, 4 bytes per float\n",
        "arithmetic_intensity = flops_per_element / bytes_per_element\n",
        "\n",
        "print(f\"Results:\")\n",
        "print(f\"  Arithmetic Operations (N): {N}\")\n",
        "print(f\"  Arithmetic Intensity: {arithmetic_intensity:.2f} Flop/Byte\")\n",
        "print(f\"  Compute Performance: {result.primary_metric / 1000:.2f} TFlop/s\")\n",
        "print(f\"  Execution Time: {result.exec_time_ms:.2f} ms\")\n",
        "print(f\"  Measurement Spread: {result.spread_percent:.2f}%\")\n"
      ]
    },
    {
      "cell_type": "markdown",
      "metadata": {},
      "source": [
        "## 4. Parameter Sweep: Arithmetic Intensity\n",
        "\n",
        "Sweep across different arithmetic intensities to create a roofline curve.\n",
        "We'll test from memory-bound (low N) to compute-bound (high N) regions.\n"
      ]
    },
    {
      "cell_type": "code",
      "execution_count": null,
      "metadata": {},
      "outputs": [
        {
          "name": "stdout",
          "output_type": "stream",
          "text": [
            "Sweeping arithmetic_ops across 55 values...\n",
            "Range: N = 0 to 1012\n",
            "This will take approximately 110 seconds...\n",
            "\n",
            "Running benchmark sweep with 55 configurations...\n",
            "Testing arithmetic_ops=0...\n",
            "\n",
            "✅ Sweep complete! Collected 55 data points\n",
            "Testing arithmetic_ops=1...\n",
            "Testing arithmetic_ops=2...\n",
            "Testing arithmetic_ops=4...\n",
            "Testing arithmetic_ops=6...\n",
            "Testing arithmetic_ops=8...\n",
            "Testing arithmetic_ops=10...\n",
            "Testing arithmetic_ops=12...\n",
            "Testing arithmetic_ops=14...\n",
            "Testing arithmetic_ops=16...\n",
            "Testing arithmetic_ops=18...\n",
            "Testing arithmetic_ops=20...\n",
            "Testing arithmetic_ops=22...\n",
            "Testing arithmetic_ops=24...\n",
            "Testing arithmetic_ops=28...\n",
            "Testing arithmetic_ops=32...\n",
            "Testing arithmetic_ops=36...\n",
            "Testing arithmetic_ops=40...\n",
            "Testing arithmetic_ops=44...\n",
            "Testing arithmetic_ops=48...\n",
            "Testing arithmetic_ops=54...\n",
            "Testing arithmetic_ops=60...\n",
            "Testing arithmetic_ops=66...\n",
            "Testing arithmetic_ops=72...\n",
            "Testing arithmetic_ops=80...\n",
            "Testing arithmetic_ops=88...\n",
            "Testing arithmetic_ops=96...\n",
            "Testing arithmetic_ops=106...\n",
            "Testing arithmetic_ops=116...\n",
            "Testing arithmetic_ops=126...\n",
            "Testing arithmetic_ops=138...\n",
            "Testing arithmetic_ops=150...\n",
            "Testing arithmetic_ops=164...\n",
            "Testing arithmetic_ops=178...\n",
            "Testing arithmetic_ops=194...\n",
            "Testing arithmetic_ops=212...\n",
            "Testing arithmetic_ops=230...\n",
            "Testing arithmetic_ops=250...\n",
            "Testing arithmetic_ops=272...\n",
            "Testing arithmetic_ops=296...\n",
            "Testing arithmetic_ops=322...\n",
            "Testing arithmetic_ops=350...\n",
            "Testing arithmetic_ops=380...\n",
            "Testing arithmetic_ops=412...\n",
            "Testing arithmetic_ops=448...\n",
            "Testing arithmetic_ops=486...\n",
            "Testing arithmetic_ops=528...\n",
            "Testing arithmetic_ops=574...\n",
            "Testing arithmetic_ops=622...\n",
            "Testing arithmetic_ops=674...\n",
            "Testing arithmetic_ops=732...\n",
            "Testing arithmetic_ops=794...\n",
            "Testing arithmetic_ops=862...\n",
            "Testing arithmetic_ops=934...\n",
            "Testing arithmetic_ops=1012...\n",
            "Sweep complete!\n"
          ]
        }
      ],
      "source": [
        "# Define sweep range: from very memory-bound to very compute-bound\n",
        "# Start with low N (memory-bound), gradually increase to high N (compute-bound)\n",
        "N_values = [\n",
        "    0, 1, 2, 4, 6, 8, 10, 12, 14, 16, 18, 20, 22, 24, 28, 32,\n",
        "    36, 40, 44, 48, 54, 60, 66, 72, 80, 88, 96, 106, 116, 126,\n",
        "    138, 150, 164, 178, 194, 212, 230, 250, 272, 296, 322, 350,\n",
        "    380, 412, 448, 486, 528, 574, 622, 674, 732, 794, 862, 934, 1012\n",
        "]\n",
        "\n",
        "print(f\"Sweeping arithmetic_ops across {len(N_values)} values...\")\n",
        "print(f\"Range: N = {N_values[0]} to {N_values[-1]}\")\n",
        "print(f\"This will take approximately {len(N_values) * 2} seconds...\\n\")\n",
        "\n",
        "# Run sweep\n",
        "results = runner.sweep('roofline', 'arithmetic_ops', N_values, {})\n",
        "\n",
        "print(f\"\\n✅ Sweep complete! Collected {len(results)} data points\")\n"
      ]
    },
    {
      "cell_type": "markdown",
      "metadata": {},
      "source": [
        "## 5. Store Results in Database\n",
        "\n",
        "Save all sweep results to the database for later analysis.\n"
      ]
    },
    {
      "cell_type": "code",
      "execution_count": null,
      "metadata": {},
      "outputs": [
        {
          "name": "stdout",
          "output_type": "stream",
          "text": [
            "✅ Saved 55 results to database\n",
            "\n",
            "Database stats: {'total_results': np.int64(165), 'benchmarks': ['roofline'], 'gpus': ['AMD Instinct MI325X'], 'date_range': {'first': '2025-10-16T21:52:39.775193', 'last': '2025-10-16T21:59:24.132770'}}\n"
          ]
        }
      ],
      "source": [
        "# Store each result with its corresponding N value\n",
        "for i, result in enumerate(results):\n",
        "    N = N_values[i]\n",
        "\n",
        "    # Calculate additional metrics\n",
        "    flops_per_element = 2.0 + N * 2.0\n",
        "    bytes_per_element = 2.0 * 4\n",
        "    arithmetic_intensity = flops_per_element / bytes_per_element\n",
        "\n",
        "    # Create params dict with all parameters and metadata\n",
        "    params = {\n",
        "        'arithmetic_ops': N,\n",
        "        'arithmetic_intensity': arithmetic_intensity,\n",
        "        'N': N\n",
        "    }\n",
        "\n",
        "    db.save_result('roofline', result, params, gpu_info)\n",
        "\n",
        "print(f\"✅ Saved {len(results)} results to database\")\n",
        "print(f\"\\nDatabase stats: {db.stats()}\")\n"
      ]
    },
    {
      "cell_type": "markdown",
      "metadata": {},
      "source": [
        "## 6. Query and Analyze Results\n",
        "\n",
        "Retrieve the stored results and prepare data for visualization.\n"
      ]
    },
    {
      "cell_type": "code",
      "execution_count": null,
      "metadata": {},
      "outputs": [
        {
          "name": "stdout",
          "output_type": "stream",
          "text": [
            "Retrieved 165 results from database\n",
            "\n",
            "DataFrame columns: ['id', 'timestamp', 'gpu_name', 'gpu_arch', 'benchmark_type', 'problem_size', 'block_size', 'iterations', 'parameters', 'primary_metric', 'metric_name', 'spread_percent', 'execution_time_ms', 'rocm_version', 'hostname']\n",
            "\n",
            "First few rows:\n",
            "     arithmetic_ops        gflops exec_time_ms  spread_percent\n",
            "54                0  2.120220e+07         None       16.441795\n",
            "109               0  2.145094e+07         None       38.665807\n",
            "164               0  2.190451e+07         None       23.610067\n",
            "108               1  4.249122e+07         None       38.188526\n",
            "163               1  4.380903e+07         None       30.672358\n",
            "53                1  4.293146e+07         None       28.937305\n",
            "52                2  6.386760e+07         None       34.660947\n",
            "107               2  6.448612e+07         None       26.721110\n",
            "162               2  6.566734e+07         None       13.096795\n",
            "161               4  1.095997e+08         None       21.521166\n",
            "\n",
            "Arithmetic intensity range: 0.25 to 253.25 Flop/Byte\n",
            "Performance range: 21202.20 to 22220543.99 TFlop/s\n"
          ]
        }
      ],
      "source": [
        "# Query all roofline results\n",
        "df = db.query(benchmark='roofline', gpu_name=gpu_name)\n",
        "\n",
        "print(f\"Retrieved {len(df)} results from database\")\n",
        "print(f\"\\nDataFrame columns: {list(df.columns)}\")\n",
        "\n",
        "# Create column aliases and parse parameters\n",
        "df['gflops'] = df['primary_metric']\n",
        "df['exec_time_ms'] = df['execution_time_ms']\n",
        "\n",
        "# Parse parameters JSON to extract arithmetic_ops and arithmetic_intensity\n",
        "df['arithmetic_ops'] = df['parameters'].apply(\n",
        "    lambda x: json.loads(x)['arithmetic_ops'] if isinstance(x, str) else x.get('arithmetic_ops', 0)\n",
        ")\n",
        "df['arithmetic_intensity'] = df['parameters'].apply(\n",
        "    lambda x: json.loads(x)['arithmetic_intensity'] if isinstance(x, str) else x.get('arithmetic_intensity', 0)\n",
        ")\n",
        "df['tflops'] = df['gflops'] / 1000  # Convert to TFlop/s for plotting\n",
        "\n",
        "# Sort by arithmetic intensity\n",
        "df = df.sort_values('arithmetic_intensity')\n",
        "\n",
        "print(f\"\\nFirst few rows:\")\n",
        "print(df[['arithmetic_ops', 'gflops', 'exec_time_ms', 'spread_percent']].head(10))\n",
        "\n",
        "print(f\"\\nArithmetic intensity range: {df['arithmetic_intensity'].min():.2f} to {df['arithmetic_intensity'].max():.2f} Flop/Byte\")\n",
        "print(f\"Performance range: {df['tflops'].min():.2f} to {df['tflops'].max():.2f} TFlop/s\")\n"
      ]
    },
    {
      "cell_type": "markdown",
      "metadata": {},
      "source": [
        "## 7. Create Roofline Plot\n",
        "\n",
        "Visualize the classic roofline plot showing performance vs arithmetic intensity.\n"
      ]
    },
    {
      "cell_type": "code",
      "execution_count": null,
      "metadata": {},
      "outputs": [],
      "source": [
        "# Create roofline plot\n",
        "fig, ax = plt.subplots(figsize=(12, 7))\n",
        "\n",
        "# Plot measured performance\n",
        "ax.plot(df['arithmetic_intensity'], df['tflops'],\n",
        "        'o-', linewidth=2, markersize=6,\n",
        "        color='#CC1343', label=f'{gpu_name} (Measured)',\n",
        "        alpha=0.8)\n",
        "\n",
        "# Add grid and labels\n",
        "ax.grid(True, alpha=0.3, linestyle='--')\n",
        "ax.set_xlabel('Arithmetic Intensity (Flop/Byte)', fontsize=12, fontweight='bold')\n",
        "ax.set_ylabel('Performance (TFlop/s FP32)', fontsize=12, fontweight='bold')\n",
        "ax.set_title(f'Roofline Plot - {gpu_name}', fontsize=14, fontweight='bold', pad=20)\n",
        "\n",
        "# Set axis limits\n",
        "ax.set_xlim([0, df['arithmetic_intensity'].max() * 1.05])\n",
        "ax.set_ylim([0, df['tflops'].max() * 1.1])\n",
        "\n",
        "# Add legend\n",
        "ax.legend(loc='lower right', fontsize=10, framealpha=0.9)\n",
        "\n",
        "# Annotate key regions\n",
        "# Find peak performance\n",
        "peak_idx = df['tflops'].idxmax()\n",
        "peak_intensity = df.loc[peak_idx, 'arithmetic_intensity']\n",
        "peak_performance = df.loc[peak_idx, 'tflops']\n",
        "\n",
        "ax.annotate(f'Peak: {peak_performance:.1f} TFlop/s',\n",
        "            xy=(peak_intensity, peak_performance),\n",
        "            xytext=(peak_intensity * 0.7, peak_performance * 0.9),\n",
        "            arrowprops=dict(arrowstyle='->', color='red', lw=1.5),\n",
        "            fontsize=10, fontweight='bold', color='red')\n",
        "\n",
        "# Mark memory-bound vs compute-bound regions\n",
        "transition_intensity = peak_intensity * 0.5\n",
        "ax.axvline(x=transition_intensity, color='gray', linestyle=':', linewidth=1.5, alpha=0.5)\n",
        "ax.text(transition_intensity * 0.4, peak_performance * 0.5,\n",
        "        'Memory\\nBound', fontsize=10, ha='center', color='gray', style='italic')\n",
        "ax.text(transition_intensity * 1.8, peak_performance * 0.5,\n",
        "        'Compute\\nBound', fontsize=10, ha='center', color='gray', style='italic')\n",
        "\n",
        "plt.tight_layout()\n",
        "plt.savefig('roofline_plot.png', dpi=300, bbox_inches='tight')\n",
        "print(f\"\\n✅ Roofline plot saved as 'roofline_plot.png'\")\n",
        "plt.show()\n"
      ]
    },
    {
      "cell_type": "markdown",
      "metadata": {},
      "source": [
        "## 8. Detailed Performance Analysis\n",
        "\n",
        "Analyze different regions of the roofline to understand GPU behavior.\n"
      ]
    },
    {
      "cell_type": "code",
      "execution_count": null,
      "metadata": {},
      "outputs": [
        {
          "name": "stdout",
          "output_type": "stream",
          "text": [
            "📊 Performance Region Analysis\n",
            "\n",
            "======================================================================\n",
            "\n",
            "1️⃣  MEMORY-BOUND REGION (< 5 Flop/Byte)\n",
            "   Data points: 33\n",
            "   Performance range: 21202.20 - 418549.25 TFlop/s\n",
            "   Limited by: Memory bandwidth\n",
            "\n",
            "2️⃣  TRANSITION REGION (5-20 Flop/Byte)\n",
            "   Data points: 39\n",
            "   Performance range: 444036.46 - 1608110.27 TFlop/s\n",
            "   Characteristics: Moving from bandwidth-limited to compute-limited\n",
            "\n",
            "3️⃣  COMPUTE-BOUND REGION (> 20 Flop/Byte)\n",
            "   Data points: 93\n",
            "   Performance range: 1712712.07 - 22220543.99 TFlop/s\n",
            "   Peak sustained: 22220543.99 TFlop/s\n",
            "   Limited by: Peak compute throughput\n",
            "\n",
            "🎯 KEY FINDINGS\n",
            "   Peak Performance: 22220543.99 TFlop/s FP32\n",
            "   Achieved at: 253.25 Flop/Byte\n",
            "   Memory Bandwidth (est.): ~5300550 GB/s\n",
            "   Compute Units: 304\n"
          ]
        }
      ],
      "source": [
        "# Identify memory-bound region (low arithmetic intensity)\n",
        "memory_bound = df[df['arithmetic_intensity'] < 5]\n",
        "compute_bound = df[df['arithmetic_intensity'] > 20]\n",
        "transition = df[(df['arithmetic_intensity'] >= 5) & (df['arithmetic_intensity'] <= 20)]\n",
        "\n",
        "print(\"📊 Performance Region Analysis\\n\")\n",
        "print(\"=\" * 70)\n",
        "\n",
        "print(f\"\\n1️⃣  MEMORY-BOUND REGION (< 5 Flop/Byte)\")\n",
        "print(f\"   Data points: {len(memory_bound)}\")\n",
        "print(f\"   Performance range: {memory_bound['tflops'].min():.2f} - {memory_bound['tflops'].max():.2f} TFlop/s\")\n",
        "print(f\"   Limited by: Memory bandwidth\")\n",
        "\n",
        "print(f\"\\n2️⃣  TRANSITION REGION (5-20 Flop/Byte)\")\n",
        "print(f\"   Data points: {len(transition)}\")\n",
        "print(f\"   Performance range: {transition['tflops'].min():.2f} - {transition['tflops'].max():.2f} TFlop/s\")\n",
        "print(f\"   Characteristics: Moving from bandwidth-limited to compute-limited\")\n",
        "\n",
        "print(f\"\\n3️⃣  COMPUTE-BOUND REGION (> 20 Flop/Byte)\")\n",
        "print(f\"   Data points: {len(compute_bound)}\")\n",
        "print(f\"   Performance range: {compute_bound['tflops'].min():.2f} - {compute_bound['tflops'].max():.2f} TFlop/s\")\n",
        "print(f\"   Peak sustained: {compute_bound['tflops'].max():.2f} TFlop/s\")\n",
        "print(f\"   Limited by: Peak compute throughput\")\n",
        "\n",
        "print(f\"\\n🎯 KEY FINDINGS\")\n",
        "print(f\"   Peak Performance: {peak_performance:.2f} TFlop/s FP32\")\n",
        "print(f\"   Achieved at: {peak_intensity:.2f} Flop/Byte\")\n",
        "if len(memory_bound) > 0:\n",
        "    est_bw = df['arithmetic_intensity'].iloc[0] * df['tflops'].iloc[0] * 1000\n",
        "    print(f\"   Memory Bandwidth (est.): ~{est_bw:.0f} GB/s\")\n",
        "print(f\"   Compute Units: {compute_units}\")\n"
      ]
    },
    {
      "cell_type": "markdown",
      "metadata": {},
      "source": [
        "## 9. Performance Efficiency Analysis\n",
        "\n",
        "Calculate achieved performance as percentage of theoretical peak.\n"
      ]
    },
    {
      "cell_type": "code",
      "execution_count": null,
      "metadata": {},
      "outputs": [
        {
          "name": "stdout",
          "output_type": "stream",
          "text": [
            "⚡ Performance Efficiency Analysis\n",
            "\n",
            "======================================================================\n",
            "\n",
            "💻 COMPUTE PERFORMANCE\n",
            "   Theoretical Peak: 328.0 TFlop/s FP32\n",
            "   Achieved Peak: 22220544.0 TFlop/s\n",
            "   Efficiency: 6774556.1%\n",
            "\n",
            "💾 MEMORY BANDWIDTH\n",
            "   Theoretical Peak: 5.30 TB/s\n",
            "   Achieved (estimated): 5300.55 TB/s\n",
            "   Efficiency: 100010.4%\n",
            "\n",
            "📈 INTERPRETATION\n",
            "   ✅ Excellent compute utilization\n",
            "   ✅ Excellent memory bandwidth utilization\n"
          ]
        }
      ],
      "source": [
        "# Theoretical peak values (adjust for your specific GPU)\n",
        "# MI325X example: ~328 TFlop/s FP32 peak, ~5.3 TB/s bandwidth\n",
        "theoretical_peak_tflops = 328  # Adjust based on your GPU specs\n",
        "theoretical_bandwidth_tbs = 5.3  # Adjust based on your GPU specs\n",
        "\n",
        "# Calculate efficiency\n",
        "achieved_peak = df['tflops'].max()\n",
        "compute_efficiency = (achieved_peak / theoretical_peak_tflops) * 100\n",
        "\n",
        "# Estimate achieved bandwidth from memory-bound region\n",
        "if len(df[df['arithmetic_intensity'] < 1]) > 0:\n",
        "    mem_bound_point = df[df['arithmetic_intensity'] < 1].iloc[0]\n",
        "    achieved_bandwidth_tbs = (mem_bound_point['arithmetic_intensity'] *\n",
        "                              mem_bound_point['tflops'] * 1000) / 1000\n",
        "    bandwidth_efficiency = (achieved_bandwidth_tbs / theoretical_bandwidth_tbs) * 100\n",
        "else:\n",
        "    achieved_bandwidth_tbs = 0\n",
        "    bandwidth_efficiency = 0\n",
        "\n",
        "print(\"⚡ Performance Efficiency Analysis\\n\")\n",
        "print(\"=\" * 70)\n",
        "\n",
        "print(f\"\\n💻 COMPUTE PERFORMANCE\")\n",
        "print(f\"   Theoretical Peak: {theoretical_peak_tflops:.1f} TFlop/s FP32\")\n",
        "print(f\"   Achieved Peak: {achieved_peak:.1f} TFlop/s\")\n",
        "print(f\"   Efficiency: {compute_efficiency:.1f}%\")\n",
        "\n",
        "print(f\"\\n💾 MEMORY BANDWIDTH\")\n",
        "print(f\"   Theoretical Peak: {theoretical_bandwidth_tbs:.2f} TB/s\")\n",
        "if achieved_bandwidth_tbs > 0:\n",
        "    print(f\"   Achieved (estimated): {achieved_bandwidth_tbs:.2f} TB/s\")\n",
        "    print(f\"   Efficiency: {bandwidth_efficiency:.1f}%\")\n",
        "else:\n",
        "    print(f\"   Achieved: Not measured (need lower N values)\")\n",
        "\n",
        "print(f\"\\n📈 INTERPRETATION\")\n",
        "if compute_efficiency > 80:\n",
        "    print(f\"   ✅ Excellent compute utilization\")\n",
        "elif compute_efficiency > 60:\n",
        "    print(f\"   ⚠️  Good compute utilization, room for optimization\")\n",
        "else:\n",
        "    print(f\"   ⚠️  Moderate compute utilization\")\n",
        "\n",
        "if bandwidth_efficiency > 80:\n",
        "    print(f\"   ✅ Excellent memory bandwidth utilization\")\n",
        "elif bandwidth_efficiency > 60:\n",
        "    print(f\"   ⚠️  Good bandwidth utilization\")\n",
        "else:\n",
        "    print(f\"   ℹ️  Consider testing with lower N values for better bandwidth measurement\")\n"
      ]
    },
    {
      "cell_type": "markdown",
      "metadata": {},
      "source": [
        "## 10. Export Results\n",
        "\n",
        "Export data for further analysis or sharing.\n"
      ]
    },
    {
      "cell_type": "code",
      "execution_count": null,
      "metadata": {},
      "outputs": [
        {
          "name": "stdout",
          "output_type": "stream",
          "text": [
            "✅ Results exported to 'roofline_results.csv'\n",
            "Exported 165 results to roofline_results.json\n",
            "✅ Full results exported to 'roofline_results.json'\n",
            "\n",
            "📊 Summary Statistics\n",
            "   Total data points: 165\n",
            "   Arithmetic intensity range: 0.25 - 253.25 Flop/Byte\n",
            "   Performance range: 21202.20 - 22220543.99 TFlop/s\n",
            "   Average execution time: nan ms\n",
            "   Average spread: 29.45%\n"
          ]
        }
      ],
      "source": [
        "# Export to CSV\n",
        "export_df = df[['arithmetic_ops', 'arithmetic_intensity', 'gflops', 'tflops',\n",
        "                'exec_time_ms', 'spread_percent']].copy()\n",
        "export_df.to_csv('roofline_results.csv', index=False)\n",
        "print(f\"✅ Results exported to 'roofline_results.csv'\")\n",
        "\n",
        "# Export to JSON for programmatic access\n",
        "db.export_json('roofline_results.json', benchmark='roofline', gpu_name=gpu_name)\n",
        "print(f\"✅ Full results exported to 'roofline_results.json'\")\n",
        "\n",
        "# Print summary statistics\n",
        "print(f\"\\n📊 Summary Statistics\")\n",
        "print(f\"   Total data points: {len(export_df)}\")\n",
        "print(f\"   Arithmetic intensity range: {export_df['arithmetic_intensity'].min():.2f} - {export_df['arithmetic_intensity'].max():.2f} Flop/Byte\")\n",
        "print(f\"   Performance range: {export_df['tflops'].min():.2f} - {export_df['tflops'].max():.2f} TFlop/s\")\n",
        "print(f\"   Average execution time: {export_df['exec_time_ms'].mean():.2f} ms\")\n",
        "print(f\"   Average spread: {export_df['spread_percent'].mean():.2f}%\")\n"
      ]
    },
    {
      "cell_type": "markdown",
      "metadata": {},
      "source": [
        "## 11. Compare with Other GPUs (Multi-GPU Analysis)\n",
        "\n",
        "If you have results from multiple GPUs, you can compare their rooflines. Here, we are comparing results between MI300X and MI325X.\n"
      ]
    },
    {
      "cell_type": "code",
      "execution_count": null,
      "metadata": {},
      "outputs": [
        {
          "data": {
            "image/png": "[encoded data removed]",
            "text/plain": [
              "<Figure size 700x400 with 1 Axes>"
            ]
          },
          "metadata": {},
          "output_type": "display_data"
        }
      ],
      "source": [
        "import csv\n",
        "import matplotlib.pyplot as plt\n",
        "\n",
        "import sys\n",
        "\n",
        "sys.path.append(\"..\")\n",
        "\n",
        "fig, ax1 = plt.subplots(figsize=(7, 4))\n",
        "\n",
        "filenames = [\"mi300x.txt\", \"mi325x.txt\"]\n",
        "\n",
        "colors = [\"#349999\", \"#CC1343\", \"#649903\", \"#c7aa3e\"]\n",
        "\n",
        "c = 0\n",
        "for filename in filenames:\n",
        "    with open(filename, newline=\"\") as csvfile:\n",
        "        csvreader = csv.reader(csvfile, delimiter=\" \", skipinitialspace=True)\n",
        "        datapoints = [[]]\n",
        "        for row in csvreader:\n",
        "            if len(row) == 0:\n",
        "                datapoints.append([])\n",
        "            elif len(row) == 16:\n",
        "                datapoints[-1].append(\n",
        "                    [float(row[5]), float(row[9]), float(row[13]), float(row[11])]\n",
        "                )\n",
        "        for i in range(min(1, len(datapoints[1]))):\n",
        "            # print([d[i][1] for d in datapoints if len(d) > 0])\n",
        "            ax1.plot(\n",
        "                [d[i][0] for d in datapoints if len(d) > 0],\n",
        "                [d[i][1] / 1000 for d in datapoints if len(d) > 0],\n",
        "                \"-\",\n",
        "                color=colors[c],\n",
        "                label=filename\n",
        "            )\n",
        "            c += 1\n",
        "\n",
        "ax1.legend()\n",
        "ax1.set_xlabel(\"Arithmetic Intensity, Flop/B\")\n",
        "ax1.set_ylabel(\"FP32, TFlop/s\")\n",
        "ax1.set_ylim([0, ax1.get_ylim()[1]])\n",
        "ax1.set_xlim([0, ax1.get_xlim()[1]])\n",
        "\n",
        "fig.tight_layout()\n",
        "\n",
        "plt.savefig(\"roofline_plot.pdf\", dpi=4000)\n",
        "plt.show()\n"
      ]
    },
    {
      "cell_type": "markdown",
      "metadata": {},
      "source": [
        "## Summary\n",
        "\n",
        "This notebook demonstrated:\n",
        "1. ✅ Running roofline benchmarks across different arithmetic intensities\n",
        "2. ✅ Storing and querying results in SQLite\n",
        "3. ✅ Creating roofline plots to visualize performance characteristics\n",
        "4. ✅ Analyzing memory-bound vs compute-bound regions\n",
        "5. ✅ Calculating performance efficiency\n",
        "6. ✅ Exporting results for further analysis\n",
        "\n",
        "### Key Takeaways:\n",
        "- The roofline model helps identify performance bottlenecks\n",
        "- Low arithmetic intensity = memory-bound (optimize data movement)\n",
        "- High arithmetic intensity = compute-bound (optimize ALU utilization)\n",
        "- The \"roofline\" shows the best achievable performance at each intensity\n",
        "\n",
        "### Next Steps:\n",
        "- Run on multiple GPUs for comparison\n",
        "- Compare with theoretical peak performance\n",
        "- Use insights to optimize your GPU applications\n",
        "- Experiment with different M and iteration values for production workloads\n"
      ]
    }
  ],
  "metadata": {
    "kernelspec": {
      "display_name": "Python 3",
      "language": "python",
      "name": "python3"
    },
    "language_info": {
      "codemirror_mode": {
        "name": "ipython",
        "version": 3
      },
      "file_extension": ".py",
      "mimetype": "text/x-python",
      "name": "python",
      "nbconvert_exporter": "python",
      "pygments_lexer": "ipython3",
      "version": "3.12.12"
    }
  },
  "nbformat": 4,
  "nbformat_minor": 2
}
